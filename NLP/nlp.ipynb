{
 "cells": [
  {
   "cell_type": "code",
   "execution_count": 10,
   "metadata": {},
   "outputs": [],
   "source": [
    "from textblob import TextBlob"
   ]
  },
  {
   "cell_type": "code",
   "execution_count": 11,
   "metadata": {},
   "outputs": [],
   "source": [
    "import nltk \n"
   ]
  },
  {
   "cell_type": "code",
   "execution_count": 12,
   "metadata": {},
   "outputs": [
    {
     "name": "stderr",
     "output_type": "stream",
     "text": [
      "[nltk_data] Downloading package punkt to\n",
      "[nltk_data]     C:\\Users\\Mayank\\AppData\\Roaming\\nltk_data...\n",
      "[nltk_data]   Package punkt is already up-to-date!\n"
     ]
    },
    {
     "data": {
      "text/plain": [
       "True"
      ]
     },
     "execution_count": 12,
     "metadata": {},
     "output_type": "execute_result"
    }
   ],
   "source": [
    "nltk.download('punkt')"
   ]
  },
  {
   "cell_type": "code",
   "execution_count": 13,
   "metadata": {},
   "outputs": [],
   "source": [
    "line = \"With Greate Power Power Comes Great Responsibility\"\n",
    "blob = TextBlob(line)"
   ]
  },
  {
   "cell_type": "code",
   "execution_count": 14,
   "metadata": {},
   "outputs": [
    {
     "name": "stderr",
     "output_type": "stream",
     "text": [
      "[nltk_data] Downloading package averaged_perceptron_tagger to\n",
      "[nltk_data]     C:\\Users\\Mayank\\AppData\\Roaming\\nltk_data...\n",
      "[nltk_data]   Package averaged_perceptron_tagger is already up-to-\n",
      "[nltk_data]       date!\n"
     ]
    },
    {
     "data": {
      "text/plain": [
       "True"
      ]
     },
     "execution_count": 14,
     "metadata": {},
     "output_type": "execute_result"
    }
   ],
   "source": [
    "nltk.download(\"averaged_perceptron_tagger\")"
   ]
  },
  {
   "cell_type": "code",
   "execution_count": 17,
   "metadata": {},
   "outputs": [
    {
     "data": {
      "text/plain": [
       "[('With', 'IN'),\n",
       " ('Greate', 'NNP'),\n",
       " ('Power', 'NNP'),\n",
       " ('Power', 'NNP'),\n",
       " ('Comes', 'NNP'),\n",
       " ('Great', 'NNP'),\n",
       " ('Responsibility', 'NNP')]"
      ]
     },
     "execution_count": 17,
     "metadata": {},
     "output_type": "execute_result"
    }
   ],
   "source": [
    "blob.tags"
   ]
  },
  {
   "cell_type": "code",
   "execution_count": 18,
   "metadata": {},
   "outputs": [
    {
     "name": "stderr",
     "output_type": "stream",
     "text": [
      "[nltk_data] Downloading package brown to\n",
      "[nltk_data]     C:\\Users\\Mayank\\AppData\\Roaming\\nltk_data...\n",
      "[nltk_data]   Unzipping corpora\\brown.zip.\n"
     ]
    },
    {
     "data": {
      "text/plain": [
       "True"
      ]
     },
     "execution_count": 18,
     "metadata": {},
     "output_type": "execute_result"
    }
   ],
   "source": [
    "nltk.download('brown')"
   ]
  },
  {
   "cell_type": "code",
   "execution_count": 19,
   "metadata": {},
   "outputs": [
    {
     "data": {
      "text/plain": [
       "WordList(['greate power power comes', 'responsibility'])"
      ]
     },
     "execution_count": 19,
     "metadata": {},
     "output_type": "execute_result"
    }
   ],
   "source": [
    "blob.noun_phrases"
   ]
  },
  {
   "cell_type": "code",
   "execution_count": 20,
   "metadata": {},
   "outputs": [
    {
     "data": {
      "text/plain": [
       "TextBlob(\"महान शक्ति के साथ बड़ी जिम्मेदारी आती है\")"
      ]
     },
     "execution_count": 20,
     "metadata": {},
     "output_type": "execute_result"
    }
   ],
   "source": [
    "blob.translate(to= \"hi\")"
   ]
  },
  {
   "cell_type": "code",
   "execution_count": 21,
   "metadata": {},
   "outputs": [
    {
     "data": {
      "text/plain": [
       "TextBlob(\"큰 힘에는 큰 책임이 따른다\")"
      ]
     },
     "execution_count": 21,
     "metadata": {},
     "output_type": "execute_result"
    }
   ],
   "source": [
    "blob.translate(to= \"ko\")"
   ]
  },
  {
   "cell_type": "code",
   "execution_count": 22,
   "metadata": {},
   "outputs": [
    {
     "data": {
      "text/plain": [
       "TextBlob(\"عظیم طاقت کے ساتھ طاقت بڑی ذمہ داری آتی ہے۔\")"
      ]
     },
     "execution_count": 22,
     "metadata": {},
     "output_type": "execute_result"
    }
   ],
   "source": [
    "blob.translate(to= \"ur\")"
   ]
  },
  {
   "cell_type": "code",
   "execution_count": 23,
   "metadata": {},
   "outputs": [
    {
     "data": {
      "text/plain": [
       "TextBlob(\"Con gran poder, el poder conlleva una gran responsabilidad\")"
      ]
     },
     "execution_count": 23,
     "metadata": {},
     "output_type": "execute_result"
    }
   ],
   "source": [
    "blob.translate(to= \"es\")"
   ]
  },
  {
   "cell_type": "code",
   "execution_count": 24,
   "metadata": {},
   "outputs": [],
   "source": [
    "import pandas as pd"
   ]
  },
  {
   "cell_type": "code",
   "execution_count": 25,
   "metadata": {},
   "outputs": [],
   "source": [
    "df = pd.read_csv('vaccination_tweets.csv')"
   ]
  },
  {
   "cell_type": "code",
   "execution_count": 26,
   "metadata": {},
   "outputs": [],
   "source": [
    "sentiments = blob.sentiment"
   ]
  },
  {
   "cell_type": "code",
   "execution_count": 27,
   "metadata": {},
   "outputs": [
    {
     "data": {
      "text/plain": [
       "0.8"
      ]
     },
     "execution_count": 27,
     "metadata": {},
     "output_type": "execute_result"
    }
   ],
   "source": [
    "sentiments.polarity"
   ]
  },
  {
   "cell_type": "code",
   "execution_count": 28,
   "metadata": {},
   "outputs": [],
   "source": [
    "blob2=TextBlob(df.iloc[0].text)"
   ]
  },
  {
   "cell_type": "code",
   "execution_count": 29,
   "metadata": {},
   "outputs": [
    {
     "data": {
      "text/plain": [
       "0.0"
      ]
     },
     "execution_count": 29,
     "metadata": {},
     "output_type": "execute_result"
    }
   ],
   "source": [
    "blob2.sentiment.polarity"
   ]
  },
  {
   "cell_type": "code",
   "execution_count": 36,
   "metadata": {},
   "outputs": [],
   "source": [
    "def getSenti(text):\n",
    "    blob = TextBlob(text)\n",
    "    pol=blob.sentiment.polarity\n",
    "    if pol >0:\n",
    "        return 'positive'\n",
    "    elif pol < 0:\n",
    "        return 'negatative'\n",
    "    else:\n",
    "        return\n",
    "    "
   ]
  },
  {
   "cell_type": "code",
   "execution_count": 37,
   "metadata": {},
   "outputs": [],
   "source": [
    "getSenti(\"Hampty Dumpty set on a wall\")"
   ]
  },
  {
   "cell_type": "code",
   "execution_count": 43,
   "metadata": {},
   "outputs": [],
   "source": [
    "df['Sentiment'] = df.text.apply(getSenti)"
   ]
  },
  {
   "cell_type": "code",
   "execution_count": 44,
   "metadata": {},
   "outputs": [],
   "source": [
    "import matplotlib.pyplot as plt"
   ]
  },
  {
   "cell_type": "code",
   "execution_count": 50,
   "metadata": {},
   "outputs": [
    {
     "data": {
      "image/png": "[encoded data removed]",
      "text/plain": [
       "<Figure size 432x288 with 1 Axes>"
      ]
     },
     "metadata": {},
     "output_type": "display_data"
    }
   ],
   "source": [
    "data= df.groupby('Sentiment').count()['id']\n",
    "data.plot(kind=\"pie\")\n",
    "plt.legend(data.index)\n",
    "plt.show()"
   ]
  },
  {
   "cell_type": "code",
   "execution_count": 51,
   "metadata": {},
   "outputs": [
    {
     "data": {
      "text/html": [
       "<div>\n",
       "<style scoped>\n",
       "    .dataframe tbody tr th:only-of-type {\n",
       "        vertical-align: middle;\n",
       "    }\n",
       "\n",
       "    .dataframe tbody tr th {\n",
       "        vertical-align: top;\n",
       "    }\n",
       "\n",
       "    .dataframe thead th {\n",
       "        text-align: right;\n",
       "    }\n",
       "</style>\n",
       "<table border=\"1\" class=\"dataframe\">\n",
       "  <thead>\n",
       "    <tr style=\"text-align: right;\">\n",
       "      <th></th>\n",
       "      <th>id</th>\n",
       "      <th>user_name</th>\n",
       "      <th>user_location</th>\n",
       "      <th>user_description</th>\n",
       "      <th>user_created</th>\n",
       "      <th>user_followers</th>\n",
       "      <th>user_friends</th>\n",
       "      <th>user_favourites</th>\n",
       "      <th>user_verified</th>\n",
       "      <th>date</th>\n",
       "      <th>text</th>\n",
       "      <th>hashtags</th>\n",
       "      <th>source</th>\n",
       "      <th>retweets</th>\n",
       "      <th>favorites</th>\n",
       "      <th>is_retweet</th>\n",
       "      <th>sentiment</th>\n",
       "      <th>Sentiment</th>\n",
       "    </tr>\n",
       "  </thead>\n",
       "  <tbody>\n",
       "    <tr>\n",
       "      <th>0</th>\n",
       "      <td>1340539111971516416</td>\n",
       "      <td>Rachel Roh</td>\n",
       "      <td>La Crescenta-Montrose, CA</td>\n",
       "      <td>Aggregator of Asian American news; scanning di...</td>\n",
       "      <td>2009-04-08 17:52:46</td>\n",
       "      <td>405</td>\n",
       "      <td>1692</td>\n",
       "      <td>3247</td>\n",
       "      <td>False</td>\n",
       "      <td>2020-12-20 06:06:44</td>\n",
       "      <td>Same folks said daikon paste could treat a cyt...</td>\n",
       "      <td>['PfizerBioNTech']</td>\n",
       "      <td>Twitter for Android</td>\n",
       "      <td>0</td>\n",
       "      <td>0</td>\n",
       "      <td>False</td>\n",
       "      <td>None</td>\n",
       "      <td>None</td>\n",
       "    </tr>\n",
       "    <tr>\n",
       "      <th>1</th>\n",
       "      <td>1338158543359250433</td>\n",
       "      <td>Albert Fong</td>\n",
       "      <td>San Francisco, CA</td>\n",
       "      <td>Marketing dude, tech geek, heavy metal &amp; '80s ...</td>\n",
       "      <td>2009-09-21 15:27:30</td>\n",
       "      <td>834</td>\n",
       "      <td>666</td>\n",
       "      <td>178</td>\n",
       "      <td>False</td>\n",
       "      <td>2020-12-13 16:27:13</td>\n",
       "      <td>While the world has been on the wrong side of ...</td>\n",
       "      <td>NaN</td>\n",
       "      <td>Twitter Web App</td>\n",
       "      <td>1</td>\n",
       "      <td>1</td>\n",
       "      <td>False</td>\n",
       "      <td>negatative</td>\n",
       "      <td>negatative</td>\n",
       "    </tr>\n",
       "    <tr>\n",
       "      <th>2</th>\n",
       "      <td>1337858199140118533</td>\n",
       "      <td>eli🇱🇹🇪🇺👌</td>\n",
       "      <td>Your Bed</td>\n",
       "      <td>heil, hydra 🖐☺</td>\n",
       "      <td>2020-06-25 23:30:28</td>\n",
       "      <td>10</td>\n",
       "      <td>88</td>\n",
       "      <td>155</td>\n",
       "      <td>False</td>\n",
       "      <td>2020-12-12 20:33:45</td>\n",
       "      <td>#coronavirus #SputnikV #AstraZeneca #PfizerBio...</td>\n",
       "      <td>['coronavirus', 'SputnikV', 'AstraZeneca', 'Pf...</td>\n",
       "      <td>Twitter for Android</td>\n",
       "      <td>0</td>\n",
       "      <td>0</td>\n",
       "      <td>False</td>\n",
       "      <td>None</td>\n",
       "      <td>None</td>\n",
       "    </tr>\n",
       "    <tr>\n",
       "      <th>3</th>\n",
       "      <td>1337855739918835717</td>\n",
       "      <td>Charles Adler</td>\n",
       "      <td>Vancouver, BC - Canada</td>\n",
       "      <td>Hosting \"CharlesAdlerTonight\" Global News Radi...</td>\n",
       "      <td>2008-09-10 11:28:53</td>\n",
       "      <td>49165</td>\n",
       "      <td>3933</td>\n",
       "      <td>21853</td>\n",
       "      <td>True</td>\n",
       "      <td>2020-12-12 20:23:59</td>\n",
       "      <td>Facts are immutable, Senator, even when you're...</td>\n",
       "      <td>NaN</td>\n",
       "      <td>Twitter Web App</td>\n",
       "      <td>446</td>\n",
       "      <td>2129</td>\n",
       "      <td>False</td>\n",
       "      <td>negatative</td>\n",
       "      <td>negatative</td>\n",
       "    </tr>\n",
       "    <tr>\n",
       "      <th>4</th>\n",
       "      <td>1337854064604966912</td>\n",
       "      <td>Citizen News Channel</td>\n",
       "      <td>NaN</td>\n",
       "      <td>Citizen News Channel bringing you an alternati...</td>\n",
       "      <td>2020-04-23 17:58:42</td>\n",
       "      <td>152</td>\n",
       "      <td>580</td>\n",
       "      <td>1473</td>\n",
       "      <td>False</td>\n",
       "      <td>2020-12-12 20:17:19</td>\n",
       "      <td>Explain to me again why we need a vaccine @Bor...</td>\n",
       "      <td>['whereareallthesickpeople', 'PfizerBioNTech']</td>\n",
       "      <td>Twitter for iPhone</td>\n",
       "      <td>0</td>\n",
       "      <td>0</td>\n",
       "      <td>False</td>\n",
       "      <td>None</td>\n",
       "      <td>None</td>\n",
       "    </tr>\n",
       "    <tr>\n",
       "      <th>...</th>\n",
       "      <td>...</td>\n",
       "      <td>...</td>\n",
       "      <td>...</td>\n",
       "      <td>...</td>\n",
       "      <td>...</td>\n",
       "      <td>...</td>\n",
       "      <td>...</td>\n",
       "      <td>...</td>\n",
       "      <td>...</td>\n",
       "      <td>...</td>\n",
       "      <td>...</td>\n",
       "      <td>...</td>\n",
       "      <td>...</td>\n",
       "      <td>...</td>\n",
       "      <td>...</td>\n",
       "      <td>...</td>\n",
       "      <td>...</td>\n",
       "      <td>...</td>\n",
       "    </tr>\n",
       "    <tr>\n",
       "      <th>11015</th>\n",
       "      <td>1460932683630977025</td>\n",
       "      <td>theSun</td>\n",
       "      <td>Petaling Jaya</td>\n",
       "      <td>Breaking news updates from the website of Mala...</td>\n",
       "      <td>2009-07-29 01:58:44</td>\n",
       "      <td>151937</td>\n",
       "      <td>465</td>\n",
       "      <td>593</td>\n",
       "      <td>False</td>\n",
       "      <td>2021-11-17 11:27:49</td>\n",
       "      <td>The number of Covid-19 cases today, 17 Novembe...</td>\n",
       "      <td>NaN</td>\n",
       "      <td>Twitter Web App</td>\n",
       "      <td>2</td>\n",
       "      <td>6</td>\n",
       "      <td>False</td>\n",
       "      <td>None</td>\n",
       "      <td>None</td>\n",
       "    </tr>\n",
       "    <tr>\n",
       "      <th>11016</th>\n",
       "      <td>1460809350792896516</td>\n",
       "      <td>Sujan</td>\n",
       "      <td>NaN</td>\n",
       "      <td>________________________ •Napricorn• •It's jus...</td>\n",
       "      <td>2013-01-28 11:48:20</td>\n",
       "      <td>4259</td>\n",
       "      <td>622</td>\n",
       "      <td>156941</td>\n",
       "      <td>False</td>\n",
       "      <td>2021-11-17 03:17:44</td>\n",
       "      <td>First dose ✅\\n#PfizerBioNTech</td>\n",
       "      <td>['PfizerBioNTech']</td>\n",
       "      <td>Twitter for Android</td>\n",
       "      <td>0</td>\n",
       "      <td>4</td>\n",
       "      <td>False</td>\n",
       "      <td>positive</td>\n",
       "      <td>positive</td>\n",
       "    </tr>\n",
       "    <tr>\n",
       "      <th>11017</th>\n",
       "      <td>1460581918295031809</td>\n",
       "      <td>theSun</td>\n",
       "      <td>Petaling Jaya</td>\n",
       "      <td>Breaking news updates from the website of Mala...</td>\n",
       "      <td>2009-07-29 01:58:44</td>\n",
       "      <td>151937</td>\n",
       "      <td>465</td>\n",
       "      <td>593</td>\n",
       "      <td>False</td>\n",
       "      <td>2021-11-16 12:14:00</td>\n",
       "      <td>The number of Covid-19 cases today, 16 Novembe...</td>\n",
       "      <td>NaN</td>\n",
       "      <td>Twitter Web App</td>\n",
       "      <td>3</td>\n",
       "      <td>5</td>\n",
       "      <td>False</td>\n",
       "      <td>None</td>\n",
       "      <td>None</td>\n",
       "    </tr>\n",
       "    <tr>\n",
       "      <th>11018</th>\n",
       "      <td>1460344277951782922</td>\n",
       "      <td>Aleksejs Jackovs</td>\n",
       "      <td>Ireland</td>\n",
       "      <td>#Scientificresearcher in #InformationTechnolog...</td>\n",
       "      <td>2012-08-13 13:47:03</td>\n",
       "      <td>1</td>\n",
       "      <td>38</td>\n",
       "      <td>99</td>\n",
       "      <td>False</td>\n",
       "      <td>2021-11-15 20:29:42</td>\n",
       "      <td>#PfizerBioNTech has developed new pill #Paxlov...</td>\n",
       "      <td>['PfizerBioNTech', 'Paxlovid', 'COVID19']</td>\n",
       "      <td>Twitter Web App</td>\n",
       "      <td>1</td>\n",
       "      <td>1</td>\n",
       "      <td>False</td>\n",
       "      <td>negatative</td>\n",
       "      <td>negatative</td>\n",
       "    </tr>\n",
       "    <tr>\n",
       "      <th>11019</th>\n",
       "      <td>1460208097956225028</td>\n",
       "      <td>theSun</td>\n",
       "      <td>Petaling Jaya</td>\n",
       "      <td>Breaking news updates from the website of Mala...</td>\n",
       "      <td>2009-07-29 01:58:44</td>\n",
       "      <td>151937</td>\n",
       "      <td>465</td>\n",
       "      <td>593</td>\n",
       "      <td>False</td>\n",
       "      <td>2021-11-15 11:28:34</td>\n",
       "      <td>The number of Covid-19 cases today, 15 Novembe...</td>\n",
       "      <td>NaN</td>\n",
       "      <td>Twitter Web App</td>\n",
       "      <td>2</td>\n",
       "      <td>6</td>\n",
       "      <td>False</td>\n",
       "      <td>None</td>\n",
       "      <td>None</td>\n",
       "    </tr>\n",
       "  </tbody>\n",
       "</table>\n",
       "<p>11020 rows × 18 columns</p>\n",
       "</div>"
      ],
      "text/plain": [
       "                        id             user_name              user_location  \\\n",
       "0      1340539111971516416            Rachel Roh  La Crescenta-Montrose, CA   \n",
       "1      1338158543359250433           Albert Fong          San Francisco, CA   \n",
       "2      1337858199140118533              eli🇱🇹🇪🇺👌                   Your Bed   \n",
       "3      1337855739918835717         Charles Adler     Vancouver, BC - Canada   \n",
       "4      1337854064604966912  Citizen News Channel                        NaN   \n",
       "...                    ...                   ...                        ...   \n",
       "11015  1460932683630977025                theSun              Petaling Jaya   \n",
       "11016  1460809350792896516                 Sujan                        NaN   \n",
       "11017  1460581918295031809                theSun              Petaling Jaya   \n",
       "11018  1460344277951782922      Aleksejs Jackovs                    Ireland   \n",
       "11019  1460208097956225028                theSun              Petaling Jaya   \n",
       "\n",
       "                                        user_description         user_created  \\\n",
       "0      Aggregator of Asian American news; scanning di...  2009-04-08 17:52:46   \n",
       "1      Marketing dude, tech geek, heavy metal & '80s ...  2009-09-21 15:27:30   \n",
       "2                                         heil, hydra 🖐☺  2020-06-25 23:30:28   \n",
       "3      Hosting \"CharlesAdlerTonight\" Global News Radi...  2008-09-10 11:28:53   \n",
       "4      Citizen News Channel bringing you an alternati...  2020-04-23 17:58:42   \n",
       "...                                                  ...                  ...   \n",
       "11015  Breaking news updates from the website of Mala...  2009-07-29 01:58:44   \n",
       "11016  ________________________ •Napricorn• •It's jus...  2013-01-28 11:48:20   \n",
       "11017  Breaking news updates from the website of Mala...  2009-07-29 01:58:44   \n",
       "11018  #Scientificresearcher in #InformationTechnolog...  2012-08-13 13:47:03   \n",
       "11019  Breaking news updates from the website of Mala...  2009-07-29 01:58:44   \n",
       "\n",
       "       user_followers  user_friends  user_favourites  user_verified  \\\n",
       "0                 405          1692             3247          False   \n",
       "1                 834           666              178          False   \n",
       "2                  10            88              155          False   \n",
       "3               49165          3933            21853           True   \n",
       "4                 152           580             1473          False   \n",
       "...               ...           ...              ...            ...   \n",
       "11015          151937           465              593          False   \n",
       "11016            4259           622           156941          False   \n",
       "11017          151937           465              593          False   \n",
       "11018               1            38               99          False   \n",
       "11019          151937           465              593          False   \n",
       "\n",
       "                      date                                               text  \\\n",
       "0      2020-12-20 06:06:44  Same folks said daikon paste could treat a cyt...   \n",
       "1      2020-12-13 16:27:13  While the world has been on the wrong side of ...   \n",
       "2      2020-12-12 20:33:45  #coronavirus #SputnikV #AstraZeneca #PfizerBio...   \n",
       "3      2020-12-12 20:23:59  Facts are immutable, Senator, even when you're...   \n",
       "4      2020-12-12 20:17:19  Explain to me again why we need a vaccine @Bor...   \n",
       "...                    ...                                                ...   \n",
       "11015  2021-11-17 11:27:49  The number of Covid-19 cases today, 17 Novembe...   \n",
       "11016  2021-11-17 03:17:44                      First dose ✅\\n#PfizerBioNTech   \n",
       "11017  2021-11-16 12:14:00  The number of Covid-19 cases today, 16 Novembe...   \n",
       "11018  2021-11-15 20:29:42  #PfizerBioNTech has developed new pill #Paxlov...   \n",
       "11019  2021-11-15 11:28:34  The number of Covid-19 cases today, 15 Novembe...   \n",
       "\n",
       "                                                hashtags               source  \\\n",
       "0                                     ['PfizerBioNTech']  Twitter for Android   \n",
       "1                                                    NaN      Twitter Web App   \n",
       "2      ['coronavirus', 'SputnikV', 'AstraZeneca', 'Pf...  Twitter for Android   \n",
       "3                                                    NaN      Twitter Web App   \n",
       "4         ['whereareallthesickpeople', 'PfizerBioNTech']   Twitter for iPhone   \n",
       "...                                                  ...                  ...   \n",
       "11015                                                NaN      Twitter Web App   \n",
       "11016                                 ['PfizerBioNTech']  Twitter for Android   \n",
       "11017                                                NaN      Twitter Web App   \n",
       "11018          ['PfizerBioNTech', 'Paxlovid', 'COVID19']      Twitter Web App   \n",
       "11019                                                NaN      Twitter Web App   \n",
       "\n",
       "       retweets  favorites  is_retweet   sentiment   Sentiment  \n",
       "0             0          0       False        None        None  \n",
       "1             1          1       False  negatative  negatative  \n",
       "2             0          0       False        None        None  \n",
       "3           446       2129       False  negatative  negatative  \n",
       "4             0          0       False        None        None  \n",
       "...         ...        ...         ...         ...         ...  \n",
       "11015         2          6       False        None        None  \n",
       "11016         0          4       False    positive    positive  \n",
       "11017         3          5       False        None        None  \n",
       "11018         1          1       False  negatative  negatative  \n",
       "11019         2          6       False        None        None  \n",
       "\n",
       "[11020 rows x 18 columns]"
      ]
     },
     "execution_count": 51,
     "metadata": {},
     "output_type": "execute_result"
    }
   ],
   "source": [
    "df"
   ]
  }
 ],
 "metadata": {
  "interpreter": {
   "hash": "e8f4faf11bb1c499f7813a67752444782e7c620cd6863ca267fced227a9725a6"
  },
  "kernelspec": {
   "display_name": "Python 3.9.9 64-bit",
   "language": "python",
   "name": "python3"
  },
  "language_info": {
   "codemirror_mode": {
    "name": "ipython",
    "version": 3
   },
   "file_extension": ".py",
   "mimetype": "text/x-python",
   "name": "python",
   "nbconvert_exporter": "python",
   "pygments_lexer": "ipython3",
   "version": "3.9.9"
  },
  "orig_nbformat": 4
 },
 "nbformat": 4,
 "nbformat_minor": 2
}
