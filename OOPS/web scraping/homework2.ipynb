{
 "cells": [
  {
   "cell_type": "code",
   "execution_count": 4,
   "metadata": {},
   "outputs": [],
   "source": [
    "import requests\n",
    "from bs4 import BeautifulSoup"
   ]
  },
  {
   "cell_type": "code",
   "execution_count": 5,
   "metadata": {},
   "outputs": [],
   "source": [
    "url = 'https://www.ndtv.com/top-stories'"
   ]
  },
  {
   "cell_type": "code",
   "execution_count": 8,
   "metadata": {},
   "outputs": [],
   "source": [
    "data = requests.get(url)"
   ]
  },
  {
   "cell_type": "code",
   "execution_count": 9,
   "metadata": {},
   "outputs": [
    {
     "name": "stdout",
     "output_type": "stream",
     "text": [
      "200\n"
     ]
    }
   ],
   "source": [
    "\n",
    "print(data.status_code)"
   ]
  },
  {
   "cell_type": "code",
   "execution_count": 10,
   "metadata": {},
   "outputs": [],
   "source": [
    "soup = BeautifulSoup(data.text)"
   ]
  },
  {
   "cell_type": "code",
   "execution_count": 11,
   "metadata": {},
   "outputs": [
    {
     "data": {
      "text/plain": [
       "<div class=\"news_Itm\"><div class=\"news_Itm-img\"><a href=\"https://www.ndtv.com/world-news/dead-dolphins-extortion-bullets-in-trial-of-italys-most-powerful-mafia-2627896\"><img alt=\"Dead Dolphins, Extortion, Bullets In Trial Of Italy's Most Powerful Mafia\" src=\"https://c.ndtvimg.com/2021-11/gmfcf19k_italy-mafia-afp_120x90_28_November_21.jpg\" title=\"Dead Dolphins, Extortion, Bullets In Trial Of Italy's Most Powerful Mafia\"/></a></div><div class=\"news_Itm-cont\"><h2 class=\"newsHdng\"><a href=\"https://www.ndtv.com/world-news/dead-dolphins-extortion-bullets-in-trial-of-italys-most-powerful-mafia-2627896\">Dead Dolphins, Extortion, Bullets In Trial Of Italy's Most Powerful Mafia</a></h2><span class=\"posted-by\"><a href=\"https://www.ndtv.com/topic/agence-france-presse\">Agence France-Presse</a>   | Sunday November 28, 2021                                                        \n",
       "                                                        </span><p class=\"newsCont\">A dead dolphin on a doormat and windows smashed with sledgehammers. Weapons stored in cemetery chapels. Bribes to judges for acquittals, and bogus medical certificates letting convicted killers dodge prison.</p></div></div>"
      ]
     },
     "execution_count": 11,
     "metadata": {},
     "output_type": "execute_result"
    }
   ],
   "source": [
    "soup.find('div',{'class':\"news_Itm\"})"
   ]
  },
  {
   "cell_type": "code",
   "execution_count": 13,
   "metadata": {},
   "outputs": [
    {
     "name": "stdout",
     "output_type": "stream",
     "text": [
      "<img alt=\"Dead Dolphins, Extortion, Bullets In Trial Of Italy's Most Powerful Mafia\" src=\"https://c.ndtvimg.com/2021-11/gmfcf19k_italy-mafia-afp_120x90_28_November_21.jpg\" title=\"Dead Dolphins, Extortion, Bullets In Trial Of Italy's Most Powerful Mafia\"/>\n",
      "Dead Dolphins, Extortion, Bullets In Trial Of Italy's Most Powerful Mafia\n",
      "A dead dolphin on a doormat and windows smashed with sledgehammers. Weapons stored in cemetery chapels. Bribes to judges for acquittals, and bogus medical certificates letting convicted killers dodge prison.\n",
      "\n",
      "<img alt=\"Kashmir Traders Allegedly Attacked In Jharkhand, Forced To Say Jai Shri Ram\" src=\"https://c.ndtvimg.com/2019-06/td7ino5g_jharkhand-police-twitter-240_120x90_29_June_19.jpg\" title=\"Kashmir Traders Allegedly Attacked In Jharkhand, Forced To Say Jai Shri Ram\"/>\n",
      "Kashmir Traders Allegedly Attacked In Jharkhand, Forced To Say Jai Shri Ram\n",
      "The Jharkhand Police on Sunday said it has detained three persons who were a part of a group that allegedly forced Kashmiri traders to chant ''Jai Shri Ram'' and ''Pakistan Murdabad'' in Ranchi.\n",
      "\n",
      "<img alt=\"BJP's Gautam Gambhir Alleges Another Death Threat, Third In A Week\" src=\"https://c.ndtvimg.com/2021-11/d6q6kpn_gautam-gambhir-instagram_120x90_23_November_21.jpg\" title=\"BJP's Gautam Gambhir Alleges Another Death Threat, Third In A Week\"/>\n",
      "BJP's Gautam Gambhir Alleges Another Death Threat, Third In A Week\n",
      "Former cricketer and Bharatiya Janata Party (BJP) MP Gautam Gambhir today received another death threat allegedly from 'ISIS Kashmir', the third in six days, police said.\n",
      "\n",
      "None\n"
     ]
    },
    {
     "ename": "AttributeError",
     "evalue": "'NoneType' object has no attribute 'text'",
     "output_type": "error",
     "traceback": [
      "\u001b[1;31m---------------------------------------------------------------------------\u001b[0m",
      "\u001b[1;31mAttributeError\u001b[0m                            Traceback (most recent call last)",
      "\u001b[1;32m~\\AppData\\Local\\Temp/ipykernel_2676/2831855934.py\u001b[0m in \u001b[0;36m<module>\u001b[1;34m\u001b[0m\n\u001b[0;32m      1\u001b[0m \u001b[1;32mfor\u001b[0m \u001b[0mrow\u001b[0m \u001b[1;32min\u001b[0m \u001b[0msoup\u001b[0m\u001b[1;33m.\u001b[0m\u001b[0mfind_all\u001b[0m\u001b[1;33m(\u001b[0m\u001b[1;34m'div'\u001b[0m\u001b[1;33m,\u001b[0m \u001b[1;33m{\u001b[0m\u001b[1;34m'class'\u001b[0m\u001b[1;33m:\u001b[0m\u001b[1;34m\"news_Itm\"\u001b[0m\u001b[1;33m}\u001b[0m\u001b[1;33m)\u001b[0m\u001b[1;33m:\u001b[0m\u001b[1;33m\u001b[0m\u001b[1;33m\u001b[0m\u001b[0m\n\u001b[0;32m      2\u001b[0m     \u001b[0mprint\u001b[0m\u001b[1;33m(\u001b[0m\u001b[0mrow\u001b[0m\u001b[1;33m.\u001b[0m\u001b[0mfind\u001b[0m\u001b[1;33m(\u001b[0m\u001b[1;34m'img'\u001b[0m\u001b[1;33m)\u001b[0m\u001b[1;33m)\u001b[0m\u001b[1;33m\u001b[0m\u001b[1;33m\u001b[0m\u001b[0m\n\u001b[1;32m----> 3\u001b[1;33m     \u001b[0mprint\u001b[0m\u001b[1;33m(\u001b[0m\u001b[0mrow\u001b[0m\u001b[1;33m.\u001b[0m\u001b[0mfind\u001b[0m\u001b[1;33m(\u001b[0m\u001b[1;34m'h2'\u001b[0m\u001b[1;33m)\u001b[0m\u001b[1;33m.\u001b[0m\u001b[0mtext\u001b[0m\u001b[1;33m)\u001b[0m\u001b[1;33m\u001b[0m\u001b[1;33m\u001b[0m\u001b[0m\n\u001b[0m\u001b[0;32m      4\u001b[0m     \u001b[0mprint\u001b[0m\u001b[1;33m(\u001b[0m\u001b[0mrow\u001b[0m\u001b[1;33m.\u001b[0m\u001b[0mfind\u001b[0m\u001b[1;33m(\u001b[0m\u001b[1;34m'p'\u001b[0m\u001b[1;33m)\u001b[0m\u001b[1;33m.\u001b[0m\u001b[0mtext\u001b[0m\u001b[1;33m)\u001b[0m\u001b[1;33m\u001b[0m\u001b[1;33m\u001b[0m\u001b[0m\n\u001b[0;32m      5\u001b[0m \u001b[1;33m\u001b[0m\u001b[0m\n",
      "\u001b[1;31mAttributeError\u001b[0m: 'NoneType' object has no attribute 'text'"
     ]
    }
   ],
   "source": [
    "for row in soup.find_all('div', {'class':\"news_Itm\"}):\n",
    "    print(row.find('img'))\n",
    "    print(row.find('h2').text)\n",
    "    print(row.find('p').text)\n",
    "\n",
    "    print()"
   ]
  },
  {
   "cell_type": "code",
   "execution_count": 14,
   "metadata": {},
   "outputs": [],
   "source": [
    "url ='https://www.ndtv.com/top-stories'"
   ]
  },
  {
   "cell_type": "code",
   "execution_count": 15,
   "metadata": {},
   "outputs": [],
   "source": [
    "data = requests.get(url)"
   ]
  },
  {
   "cell_type": "code",
   "execution_count": 16,
   "metadata": {},
   "outputs": [
    {
     "name": "stdout",
     "output_type": "stream",
     "text": [
      "200\n"
     ]
    }
   ],
   "source": [
    "print(data.status_code)"
   ]
  },
  {
   "cell_type": "code",
   "execution_count": 17,
   "metadata": {},
   "outputs": [],
   "source": [
    "soup = BeautifulSoup(data.text)"
   ]
  },
  {
   "cell_type": "code",
   "execution_count": 21,
   "metadata": {},
   "outputs": [
    {
     "ename": "SyntaxError",
     "evalue": "invalid syntax (Temp/ipykernel_2676/2576330105.py, line 3)",
     "output_type": "error",
     "traceback": [
      "\u001b[1;36m  File \u001b[1;32m\"C:\\Users\\Mayank\\AppData\\Local\\Temp/ipykernel_2676/2576330105.py\"\u001b[1;36m, line \u001b[1;32m3\u001b[0m\n\u001b[1;33m    print(news.find.('h2').text)\u001b[0m\n\u001b[1;37m                    ^\u001b[0m\n\u001b[1;31mSyntaxError\u001b[0m\u001b[1;31m:\u001b[0m invalid syntax\n"
     ]
    }
   ],
   "source": [
    "for news in soup.find_all('div',{'class':'news_itm'}):\n",
    "    if  attrs.get('class'):\n",
    "        print(news.find.('h2').text)\n",
    "        print(news.find('p').text)\n",
    "        print()"
   ]
  },
  {
   "cell_type": "code",
   "execution_count": 1,
   "metadata": {},
   "outputs": [
    {
     "data": {
      "text/plain": [
       "False"
      ]
     },
     "execution_count": 1,
     "metadata": {},
     "output_type": "execute_result"
    }
   ],
   "source": [
    "x=\"5\"\n",
    "y=5\n",
    "x==y"
   ]
  },
  {
   "cell_type": "code",
   "execution_count": 5,
   "metadata": {},
   "outputs": [
    {
     "name": "stdout",
     "output_type": "stream",
     "text": [
      "we have len(fruits)fruits\n"
     ]
    }
   ],
   "source": [
    "fruits =['banana','apple','peer']\n",
    "if fruits:\n",
    "    print(f'we have len(fruits)fruits')"
   ]
  },
  {
   "cell_type": "code",
   "execution_count": 9,
   "metadata": {},
   "outputs": [
    {
     "ename": "AttributeError",
     "evalue": "'list' object has no attribute 'split'",
     "output_type": "error",
     "traceback": [
      "\u001b[1;31m---------------------------------------------------------------------------\u001b[0m",
      "\u001b[1;31mAttributeError\u001b[0m                            Traceback (most recent call last)",
      "\u001b[1;32m~\\AppData\\Local\\Temp/ipykernel_10164/3138992581.py\u001b[0m in \u001b[0;36m<module>\u001b[1;34m\u001b[0m\n\u001b[0;32m      1\u001b[0m \u001b[0mfruitsstring\u001b[0m \u001b[1;33m=\u001b[0m \u001b[1;33m[\u001b[0m\u001b[1;34m'banana'\u001b[0m\u001b[1;33m,\u001b[0m\u001b[1;34m'peer'\u001b[0m\u001b[1;33m,\u001b[0m\u001b[1;34m'apple'\u001b[0m\u001b[1;33m]\u001b[0m\u001b[1;33m\u001b[0m\u001b[1;33m\u001b[0m\u001b[0m\n\u001b[1;32m----> 2\u001b[1;33m \u001b[0mfruitlist\u001b[0m \u001b[1;33m=\u001b[0m\u001b[0mfruitsstring\u001b[0m\u001b[1;33m.\u001b[0m\u001b[0msplit\u001b[0m\u001b[1;33m(\u001b[0m\u001b[0mbanana\u001b[0m\u001b[1;33m,\u001b[0m\u001b[0mpeer\u001b[0m\u001b[1;33m,\u001b[0m\u001b[0mapple\u001b[0m\u001b[1;33m)\u001b[0m\u001b[1;33m\u001b[0m\u001b[1;33m\u001b[0m\u001b[0m\n\u001b[0m",
      "\u001b[1;31mAttributeError\u001b[0m: 'list' object has no attribute 'split'"
     ]
    }
   ],
   "source": [
    "fruitsstring = ['banana','peer','apple']\n",
    "fruitlist =fruitsstring.split(banana,peer,apple)"
   ]
  }
 ],
 "metadata": {
  "interpreter": {
   "hash": "e8f4faf11bb1c499f7813a67752444782e7c620cd6863ca267fced227a9725a6"
  },
  "kernelspec": {
   "display_name": "Python 3.9.9 64-bit",
   "language": "python",
   "name": "python3"
  },
  "language_info": {
   "codemirror_mode": {
    "name": "ipython",
    "version": 3
   },
   "file_extension": ".py",
   "mimetype": "text/x-python",
   "name": "python",
   "nbconvert_exporter": "python",
   "pygments_lexer": "ipython3",
   "version": "3.9.9"
  },
  "orig_nbformat": 4
 },
 "nbformat": 4,
 "nbformat_minor": 2
}
