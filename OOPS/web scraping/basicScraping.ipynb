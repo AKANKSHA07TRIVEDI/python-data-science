{
 "cells": [
  {
   "cell_type": "code",
   "execution_count": 2,
   "metadata": {},
   "outputs": [],
   "source": [
    "import requests\n",
    "from bs4 import BeautifulSoup"
   ]
  },
  {
   "cell_type": "code",
   "execution_count": 3,
   "metadata": {},
   "outputs": [],
   "source": [
    "url = 'https://www.indiatoday.in/top-stories'"
   ]
  },
  {
   "cell_type": "code",
   "execution_count": 4,
   "metadata": {},
   "outputs": [],
   "source": [
    "data = requests.get(url)"
   ]
  },
  {
   "cell_type": "code",
   "execution_count": 5,
   "metadata": {},
   "outputs": [
    {
     "name": "stdout",
     "output_type": "stream",
     "text": [
      "200\n"
     ]
    }
   ],
   "source": [
    "print(data.status_code)"
   ]
  },
  {
   "cell_type": "code",
   "execution_count": 32,
   "metadata": {},
   "outputs": [],
   "source": [
    "data = requests.get(url)"
   ]
  },
  {
   "cell_type": "code",
   "execution_count": 33,
   "metadata": {},
   "outputs": [
    {
     "name": "stdout",
     "output_type": "stream",
     "text": [
      "200\n"
     ]
    }
   ],
   "source": [
    "print(data.status_code)\n",
    "#data.text"
   ]
  },
  {
   "cell_type": "code",
   "execution_count": 34,
   "metadata": {},
   "outputs": [],
   "source": [
    "soup = BeautifulSoup(data.text)"
   ]
  },
  {
   "cell_type": "code",
   "execution_count": 35,
   "metadata": {},
   "outputs": [
    {
     "data": {
      "text/plain": [
       "<div class=\"catagory-listing\"><div class=\"pic\"> <img alt=\"\" data-preview-url=\"\" src=\"https://akm-img-a-in.tosshub.com/indiatoday/images/story/202111/pjimage_(6)_7.jpg?kHuTaOi4qrwnyoe8bcC8DnkCHpOoP2y5&amp;size=170:96\" title=\"\"/></div><div class=\"detail\"><h2 class=\"\" title=\"Varun Dhawan and Kriti Sanon declare kal hogi Bhediya se pehli mulaqat\"><a href=\"/movies/bollywood/story/varun-dhawan-and-kriti-sanon-declare-kal-hogi-bhediya-se-pehli-mulaqat-1880219-2021-11-24\">Varun Dhawan and Kriti Sanon declare kal hogi Bhediya se pehli mulaqat</a></h2><p>The first look of Varun Dhawan and Kriti Sanon’s Bhediya will release\n",
       "tomorrow, November 25. The horror comedy is directed by Amar Kaushik.</p></div></div>"
      ]
     },
     "execution_count": 35,
     "metadata": {},
     "output_type": "execute_result"
    }
   ],
   "source": [
    "#it finds and returns the first occurence of tag\n",
    "soup.find('div',{'class':\"catagory-listing\"})"
   ]
  },
  {
   "cell_type": "code",
   "execution_count": 38,
   "metadata": {},
   "outputs": [
    {
     "name": "stdout",
     "output_type": "stream",
     "text": [
      "https://akm-img-a-in.tosshub.com/indiatoday/images/story/202111/pjimage_(6)_7.jpg?kHuTaOi4qrwnyoe8bcC8DnkCHpOoP2y5&size=170:96\n",
      "Varun Dhawan and Kriti Sanon declare kal hogi Bhediya se pehli mulaqat\n",
      "The first look of Varun Dhawan and Kriti Sanon’s Bhediya will release\n",
      "tomorrow, November 25. The horror comedy is directed by Amar Kaushik.\n",
      "\n",
      "https://akm-img-a-in.tosshub.com/indiatoday/images/story/202111/Farmers_protest_1_1200x768.jpeg?PZ9YhZuEzhErHWALoeNGoMocutq2AQzo&size=170:96\n",
      "Farm laws repealed but MSP demand stands | How will the farmers' agitation impact Punjab polls?\n",
      "The upcoming polls are being seen as electoral semi-finals before the General\n",
      "elections in 2024. India Today finds out the sentiments on the ground in\n",
      "Punjab after PM Narendra Modi announced the decision to roll back the three\n",
      "farm laws.\n",
      "\n",
      "https://akm-img-a-in.tosshub.com/indiatoday/images/story/202111/pak_min_1200x768.png?26JcWmJ_9SthLuyd.m6UM80e6FpdxW4d&size=170:96\n",
      "Watch: Pakistan Minister Fawad Chaudhry says garlic is adrak in viral video\n",
      "Fawad Chaudhry, Pakistan's Information and Broadcasting Minister, was talking\n",
      "about the decrease in the price of onion and garlic during his address when\n",
      "he confused the latter for ginger. The video has gone crazy viral on social\n",
      "media.\n",
      "\n",
      "https://akm-img-a-in.tosshub.com/indiatoday/images/story/202111/Macbook_keyboard.jpg?HZgz.72HKN_0Z9UBuWJpavlxUgYfzdu5&size=170:96\n",
      "10 important keyboard shortcuts that every MacBook user must know\n",
      "MacBook offers a range of shortcut keys. While it’s a huge challenge to\n",
      "learn all of them, we can always start by learning a few important ones.\n",
      "\n",
      "https://akm-img-a-in.tosshub.com/indiatoday/images/story/202111/minorboy_1200x768.jpeg?zKYKDK2_5vcZHmbtddgeYZ3Tz2YGK2hf&size=170:96\n",
      "Allahabad HC says oral sex with minor not 'aggravated sexual assault', sparks row\n",
      "The Allahabad High Court's observation that oral sex with a minor does not\n",
      "come under the 'aggravated sexual assault' category under the Pocso Act has\n",
      "sparked a row on social media.\n",
      "\n",
      "https://akm-img-a-in.tosshub.com/indiatoday/images/story/202111/PRIYANKA_(12).png?ElssK8y7X1PJorh9ssc3to3QCAOb42PA&size=170:96\n",
      "Priyanka Chopra and Nick Jonas are expecting...Actress confirms\n",
      "Priyanka Chopra and Nick Jonas are the only married couple in the Jonas\n",
      "family without kids. On the Jonas Brothers Family Roast on Netflix, Priyanka\n",
      "confirmed that Nick and she are expecting.\n",
      "\n",
      "https://akm-img-a-in.tosshub.com/indiatoday/images/story/202111/Bank-stocks-surge_1200x768.png?vujK2_KEJ012Me0x1IxLlbHNy54wfj_x&size=170:96\n",
      "Explained: Why shares of Indian Overseas Bank, Central Bank of India surged sharply today\n",
      "Shares of state-owned banks, Indian Overseas Bank and Central Bank of India,\n",
      "surged sharply during Wednesday's intra-day trading session. Here is all you\n",
      "need to know.\n",
      "\n",
      "https://akm-img-a-in.tosshub.com/indiatoday/images/story/202111/Karthik_1200x768.jpeg?.8hv_r7R_ztuCKKgoFFSvbxaihld2YFN&size=170:96\n",
      "Dinesh Karthik, Washington Sundar back in TN squad for Vijay Hazare Trophy\n",
      "Tamil Nadu picked wicketkeeper Dinesh Karthik and all-rounder Washington\n",
      "Sundar in a 20-man squad for the Vijay Hazare Trophy cricket tournament.\n",
      "\n",
      "https://akm-img-a-in.tosshub.com/indiatoday/images/story/202111/pjimage_(5)_2.jpg?qpSMSRHvhpMMH1zFj5AIcuFzHaaeqU8X&size=170:96\n",
      "Priyanka Chopra roasts Nick, tells him she’d marry Chris Hemsworth if he became single\n",
      "Priyanka Chopra brutally roasted her husband Nick Jonas at the Jonas Brothers\n",
      "Family Roast. She said that she wouldn't want to marry anyone else, unless\n",
      "Chris Hemsworth became single.\n",
      "\n",
      "https://akm-img-a-in.tosshub.com/indiatoday/images/story/202111/Collage-thumb-old_1.jpg?qyWCkbV5ROfHyhqtHqPbmyb5BKXXJI4c&size=170:96\n",
      "Murder most fowl: 63 chickens killed due to loud DJ music, claims Odisha poultry farm owner\n",
      "A poultry farm owner in Odisha's Balasore has alleged that the loud music\n",
      "played by the DJ at his neighbour's wedding procession killed 63 of his\n",
      "chickens.\n",
      "\n",
      "https://akm-img-a-in.tosshub.com/indiatoday/images/story/202111/bank-privatisation-bill_1200x768.png?0W1OPpQ0AIROvg8EDadBqkkNMa88_Bw3&size=170:96\n",
      "Govt to introduce bill aimed at privatising 2 public sector banks\n",
      "The government is planning to introduce a bill to amend banking laws, aimed\n",
      "at privatising two public sector banks. Here is all you need to know.\n",
      "\n",
      "https://akm-img-a-in.tosshub.com/indiatoday/images/story/202111/anupamaa_meets_monisha_rupali__1200x768.png?K0cBR_eakU2LGre2VQliJYAaze6NYwT_&size=170:96\n",
      "When Rupali Ganguly's Anupamaa met Monisha. Watch video\n",
      "Rupali Ganguly shared a video of herself as Anupamaa and Monisha to celebrate\n",
      "clocking 2 million followers on Instagram. Don't miss Monisha's antics.\n",
      "\n"
     ]
    }
   ],
   "source": [
    "#find_all returns all the matching tags in alist\n",
    "for row in soup.find_all('div', {'class':'catagory-listing'}):\n",
    "    print(row.find('img').attrs.get('src'))\n",
    "    print(row.find('h2').text)\n",
    "    print(row.find('p').text)\n",
    "\n",
    "    print()"
   ]
  },
  {
   "cell_type": "code",
   "execution_count": null,
   "metadata": {},
   "outputs": [],
   "source": []
  }
 ],
 "metadata": {
  "interpreter": {
   "hash": "e8f4faf11bb1c499f7813a67752444782e7c620cd6863ca267fced227a9725a6"
  },
  "kernelspec": {
   "display_name": "Python 3.9.9 64-bit",
   "language": "python",
   "name": "python3"
  },
  "language_info": {
   "codemirror_mode": {
    "name": "ipython",
    "version": 3
   },
   "file_extension": ".py",
   "mimetype": "text/x-python",
   "name": "python",
   "nbconvert_exporter": "python",
   "pygments_lexer": "ipython3",
   "version": "3.9.9"
  },
  "orig_nbformat": 4
 },
 "nbformat": 4,
 "nbformat_minor": 2
}
